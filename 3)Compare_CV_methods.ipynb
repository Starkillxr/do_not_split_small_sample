{
  "cells": [
    {
      "cell_type": "markdown",
      "metadata": {
        "colab_type": "text",
        "id": "view-in-github"
      },
      "source": [
        "<a href=\"https://colab.research.google.com/github/Chansikan/do_not_split_small_sample/blob/main/3)Compare_CV_methods.ipynb\" target=\"_parent\"><img src=\"https://colab.research.google.com/assets/colab-badge.svg\" alt=\"Open In Colab\"/></a>"
      ]
    },
    {
      "cell_type": "markdown",
      "metadata": {
        "id": "pgcsP5IBYf8g"
      },
      "source": [
        "# Radiomics machine learning study with a small sample size: Single random training-test set split may lead to unreliable results: Comparing CV methods"
      ]
    },
    {
      "cell_type": "code",
      "execution_count": 2,
      "metadata": {
        "id": "Yyz3WHSOYfWi"
      },
      "outputs": [],
      "source": [
        "# import necessary modules\n",
        "import numpy as np\n",
        "import pandas as pd\n",
        "from random import choices\n",
        "from tqdm import tqdm\n",
        "\n",
        "from sklearn.pipeline import Pipeline\n",
        "from sklearn.preprocessing import StandardScaler\n",
        "from sklearn.model_selection import train_test_split, GridSearchCV, cross_val_score,  KFold, StratifiedKFold, RepeatedStratifiedKFold\n",
        "from sklearn.feature_selection import SelectKBest, f_classif\n",
        "from sklearn.linear_model import LogisticRegression\n",
        "from sklearn.metrics import roc_auc_score"
      ]
    },
    {
      "cell_type": "code",
      "execution_count": 4,
      "metadata": {
        "colab": {
          "base_uri": "https://localhost:8080/"
        },
        "id": "ttGE7SYVYgRZ",
        "outputId": "b8457607-f72f-4ba8-a97c-8ca52481ca64"
      },
      "outputs": [
        {
          "name": "stdout",
          "output_type": "stream",
          "text": [
            "Low- vs. High-grade meningioma dataset: \n",
            "     No. of samples and No. of features: (258, 186) \n",
            "     Proportions of Low-grade and High-grade: 0.63 and 0.37 \n",
            "     \n"
          ]
        }
      ],
      "source": [
        "# Low- vs. High-grade meningioma without undersampling\n",
        "df_MEN = pd.read_csv('MEN_cohort.csv')\n",
        "X_MEN = df_MEN.iloc[:, 1:]\n",
        "y_MEN = df_MEN['Label']\n",
        "\n",
        "print('Low- vs. High-grade meningioma dataset: \\n \\\n",
        "    No. of samples and No. of features: {0} \\n \\\n",
        "    Proportions of Low-grade and High-grade: {1} and {2} \\n \\\n",
        "    '.format(X_MEN.shape, round((1 - np.mean(y_MEN)), 2), \n",
        "             round(np.mean(y_MEN), 2)))"
      ]
    },
    {
      "cell_type": "code",
      "execution_count": 5,
      "metadata": {
        "id": "vfuJTxi6Ygfn"
      },
      "outputs": [],
      "source": [
        "def get_compare_result(dataset, rs_list, params):\n",
        "    \n",
        "  combs = [(rs, method) for rs in rs_list \n",
        "          for method in ['BS', 'CV', 'CV_rep', 'nested_CV']]\n",
        "\n",
        "  result_df = pd.DataFrame()\n",
        "  for (rs, method) in tqdm(combs):\n",
        "\n",
        "    df = pd.read_csv(dataset)\n",
        "    X = df.iloc[:, 1:]\n",
        "    y = df.loc[:, 'Label']\n",
        "\n",
        "    X_train, X_test, y_train, y_test = \\\n",
        "      train_test_split(X, y, test_size=0.3, shuffle=True, stratify=y, random_state=rs)\n",
        "\n",
        "    pipe = Pipeline([('scaler', StandardScaler()), \n",
        "                      ('fs', SelectKBest(f_classif)),\n",
        "                      ('clf', LogisticRegression(penalty='l1', solver='liblinear',\n",
        "                                max_iter=10000, dual=False, random_state=0))])\n",
        "\n",
        "    # 1) Cross validation without repetition\n",
        "    if method == 'CV':\n",
        "      search = GridSearchCV(pipe, param_grid=params, scoring='roc_auc', cv=5)\n",
        "      search.fit(X_train, y_train)\n",
        "\n",
        "      auc_list = []\n",
        "      for i in range(5): \n",
        "        key = 'split'+ str(i) + '_test_score'\n",
        "        auc = search.cv_results_[key][search.best_index_]\n",
        "        auc_list.append(auc)\n",
        "      AUC_mean = np.mean(auc_list)\n",
        "      AUC_sd = np.std(auc_list) \n",
        "\n",
        "    if method == 'CV':\n",
        "      search = GridSearchCV(pipe, param_grid=params, scoring='roc_auc', cv=5)\n",
        "      search.fit(X_train, y_train)\n",
        "\n",
        "      auc_list = []\n",
        "      for i in range(5): \n",
        "        key = 'split'+ str(i) + '_test_score'\n",
        "        auc = search.cv_results_[key][search.best_index_]\n",
        "        auc_list.append(auc)\n",
        "      AUC_mean = np.mean(auc_list)\n",
        "      AUC_sd = np.std(auc_list) \n",
        "\n",
        "    # 2) Cross validation with repetition\n",
        "    if method == 'CV_rep':\n",
        "      search = GridSearchCV(pipe, param_grid=params, scoring='roc_auc', \n",
        "                            cv=RepeatedStratifiedKFold(n_splits=5, n_repeats=10))\n",
        "      search.fit(X_train, y_train)\n",
        "\n",
        "      auc_list = []\n",
        "      for i in range(5): \n",
        "        key = 'split'+ str(i) + '_test_score'\n",
        "        auc = search.cv_results_[key][search.best_index_]\n",
        "        auc_list.append(auc)\n",
        "      AUC_mean = np.mean(auc_list)\n",
        "      AUC_sd = np.std(auc_list) \n",
        "\n",
        "    # 3) nested cross validation\n",
        "    if method == 'nested_CV':\n",
        "      inner_cv = KFold(n_splits=5, shuffle=True, random_state=rs)\n",
        "      outer_cv = KFold(n_splits=5, shuffle=True, random_state=rs)\n",
        "\n",
        "      search = GridSearchCV(pipe, param_grid=params, scoring='roc_auc', cv=inner_cv)\n",
        "      search.fit(X_train, y_train)\n",
        "      auc_list = cross_val_score(search, X=X_train, y=y_train, \n",
        "                                  scoring='roc_auc', cv=outer_cv)\n",
        "      AUC_mean = np.mean(auc_list)\n",
        "      AUC_sd = np.std(auc_list) \n",
        "\n",
        "    # 4) Splitting with bootstrap\n",
        "    if method == 'BS':\n",
        "\n",
        "      auc_list = []\n",
        "      for i in range(10):\n",
        "        idx_selected = np.random.choice(X_train.index, len(X_train), replace=True)\n",
        "        idx_not_selected = ~X_train.index.isin(idx_selected)\n",
        "        X_tr = X_train.loc[idx_selected, :]\n",
        "        y_tr = y_train.loc[idx_selected]\n",
        "        X_val = X_train.loc[idx_not_selected, :]\n",
        "        y_val = y_train.loc[idx_not_selected]\n",
        "      \n",
        "        search = GridSearchCV(pipe, param_grid=params, scoring='roc_auc', cv=5)\n",
        "        search.fit(X_tr, y_tr)\n",
        "\n",
        "        y_pred = search.predict_proba(X_val)\n",
        "        val_auc = roc_auc_score(y_val, y_pred[:, 1])\n",
        "\n",
        "        auc_list.append(val_auc)\n",
        "      \n",
        "      AUC_mean = np.mean(auc_list)\n",
        "      AUC_sd = np.std(auc_list) \n",
        "\n",
        "      search.fit(X_train, y_train)\n",
        "\n",
        "\n",
        "    # Testing\n",
        "    y_pred = search.predict_proba(X_test)\n",
        "    Test_AUC = roc_auc_score(y_test, y_pred[:, 1])\n",
        "\n",
        "    row = pd.DataFrame({'Task': dataset, 'Method': method, \n",
        "                        'Random_state': rs,\n",
        "                        'CV_AUC': round(AUC_mean, 3), \n",
        "                        'CV_AUC_SD': round(AUC_sd, 3),\n",
        "                        'Test_AUC': round(Test_AUC, 3)}, index = [rs])\n",
        "  \n",
        "    result_df = pd.concat([result_df, row], axis=0)\n",
        "  \n",
        "  return result_df"
      ]
    },
    {
      "cell_type": "code",
      "execution_count": 6,
      "metadata": {
        "id": "-_knWqIkc6qA"
      },
      "outputs": [
        {
          "name": "stderr",
          "output_type": "stream",
          "text": [
            "100%|██████████| 40/40 [09:59<00:00, 14.98s/it]\n",
            "100%|██████████| 40/40 [10:42<00:00, 16.05s/it]\n"
          ]
        },
        {
          "ename": "",
          "evalue": "",
          "output_type": "error",
          "traceback": [
            "\u001b[1;31mThe Kernel crashed while executing code in the the current cell or a previous cell. Please review the code in the cell(s) to identify a possible cause of the failure. Click <a href='https://aka.ms/vscodeJupyterKernelCrash'>here</a> for more info. View Jupyter <a href='command:jupyter.viewOutput'>log</a> for further details."
          ]
        }
      ],
      "source": [
        "RS_for_MEN_moderate = [229, 996, 69, 953, 450, 397, 52, 321, 694, 248]\n",
        "RS_for_MEN_extreme = [999, 346, 518, 171, 983, 642, 573, 308, 690, 357]\n",
        "\n",
        "params = {'fs__k': range(20, 55, 5), \n",
        "          'clf__C': [0.001, 0.01, 0.05, 0.1, 0.5, 1, 2, 5, 10]}\n",
        "\n",
        "get_compare_result('MEN_cohort.csv', \n",
        "  RS_for_MEN_moderate, params).to_csv('compare_methods_MEN_moderate.csv')\n",
        "get_compare_result('MEN_cohort.csv', \n",
        "  RS_for_MEN_extreme, params).to_csv('compare_methods_MEN_extreme.csv')"
      ]
    }
  ],
  "metadata": {
    "colab": {
      "authorship_tag": "ABX9TyM3ex6tbrt3TXbMiIbACbUM",
      "collapsed_sections": [],
      "include_colab_link": true,
      "name": "3)Compare_CV_methods.ipynb",
      "provenance": []
    },
    "kernelspec": {
      "display_name": "Python 3",
      "name": "python3"
    },
    "language_info": {
      "codemirror_mode": {
        "name": "ipython",
        "version": 3
      },
      "file_extension": ".py",
      "mimetype": "text/x-python",
      "name": "python",
      "nbconvert_exporter": "python",
      "pygments_lexer": "ipython3",
      "version": "3.10.11"
    }
  },
  "nbformat": 4,
  "nbformat_minor": 0
}
