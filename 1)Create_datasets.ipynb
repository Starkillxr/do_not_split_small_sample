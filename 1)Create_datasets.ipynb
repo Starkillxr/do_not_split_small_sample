{
  "cells": [
    {
      "attachments": {},
      "cell_type": "markdown",
      "metadata": {
        "colab_type": "text",
        "id": "view-in-github"
      },
      "source": [
        "<a href=\"https://colab.research.google.com/github/Chansikan/do_not_split_small_sample/blob/main/1)Create_datasets.ipynb\" target=\"_parent\"><img src=\"https://colab.research.google.com/assets/colab-badge.svg\" alt=\"Open In Colab\"/></a>"
      ]
    },
    {
      "attachments": {},
      "cell_type": "markdown",
      "metadata": {
        "id": "vEKScc4Z3V-U"
      },
      "source": [
        "# Radiomics machine learning study with a small sample size: Single random training-test set split may lead to unreliable results: Creating datasets for analyses"
      ]
    },
    {
      "cell_type": "code",
      "execution_count": 1,
      "metadata": {
        "id": "RRXlylJA3V-d"
      },
      "outputs": [],
      "source": [
        "# import necessary modules\n",
        "import numpy as np\n",
        "import pandas as pd\n",
        "from tqdm import tqdm\n",
        "\n",
        "from sklearn.pipeline import Pipeline\n",
        "from sklearn.preprocessing import StandardScaler\n",
        "from sklearn.model_selection import train_test_split, GridSearchCV, cross_val_score\n",
        "from sklearn.feature_selection import SelectKBest, f_classif\n",
        "from sklearn.linear_model import LogisticRegression\n",
        "from sklearn.metrics import roc_auc_score\n",
        "\n",
        "# run an external python code for DeLong method\n",
        "# Upload a file named 'delong.py' onto the working directory\n",
        "%run \"delong.py\""
      ]
    },
    {
      "cell_type": "code",
      "execution_count": 2,
      "metadata": {
        "colab": {
          "base_uri": "https://localhost:8080/"
        },
        "id": "JwTaLwunC30v",
        "outputId": "d3d09b7e-2309-4db3-ab63-c73ab8c9b67c"
      },
      "outputs": [
        {
          "name": "stdout",
          "output_type": "stream",
          "text": [
            "1) GBM vs. Metastasis dataset: \n",
            "     No. of samples and No. of features: (167, 558) \n",
            "     Proportions of GBM and Metastasis: 0.65 and 0.35 \n",
            "     \n",
            "2) Undersampled GBM vs. Metastasis dataset: \n",
            "     No. of samples and No. of features: (83, 558) \n",
            "     Proportions of GBM and Metastasis: 0.65 and 0.35 \n",
            "     \n",
            "3) Low- vs. High-grade meningioma dataset: \n",
            "     No. of samples and No. of features: (258, 186) \n",
            "     Proportions of Low-grade and High-grade: 0.63 and 0.37 \n",
            "     \n",
            "4) Undersampled Low- vs. High-grade meningioma dataset: \n",
            "     No. of samples and No. of features: (129, 186) \n",
            "     Proportions of Low-grade and High-grade: 0.63 and 0.37 \n",
            "     \n"
          ]
        }
      ],
      "source": [
        "# Upload 4 files onto the working directory:\n",
        "# 'GvM_cohort.csv'\n",
        "# 'GvM_cohort_undersampled.csv'\n",
        "# 'MEN_cohort.csv'\n",
        "# 'MEN_cohort_undersampled.csv'\n",
        "\n",
        "# 1) GBM vs. Metastasis without undersampling\n",
        "df_GvM = pd.read_csv('GvM_cohort.csv')\n",
        "X_GvM = df_GvM.iloc[:, 1:]\n",
        "y_GvM = df_GvM['Label']\n",
        "\n",
        "print('1) GBM vs. Metastasis dataset: \\n \\\n",
        "    No. of samples and No. of features: {0} \\n \\\n",
        "    Proportions of GBM and Metastasis: {1} and {2} \\n \\\n",
        "    '.format(X_GvM.shape, round((1 - np.mean(y_GvM)), 2), \n",
        "             round(np.mean(y_GvM), 2)))\n",
        "\n",
        "# 2) GBM vs. Metastasis with undersampling\n",
        "df_GvM_under = pd.read_csv('GvM_cohort_undersampled.csv')\n",
        "X_GvM_under = df_GvM_under.iloc[:, 1:]\n",
        "y_GvM_under = df_GvM_under['Label']\n",
        "\n",
        "print('2) Undersampled GBM vs. Metastasis dataset: \\n \\\n",
        "    No. of samples and No. of features: {0} \\n \\\n",
        "    Proportions of GBM and Metastasis: {1} and {2} \\n \\\n",
        "    '.format(X_GvM_under.shape, round((1 - np.mean(y_GvM_under)), 2), \n",
        "             round(np.mean(y_GvM_under), 2)))\n",
        "\n",
        "# 3) Low- vs. High-grade meningioma without undersampling\n",
        "df_MEN = pd.read_csv('MEN_cohort.csv')\n",
        "X_MEN = df_MEN.iloc[:, 1:]\n",
        "y_MEN = df_MEN['Label']\n",
        "\n",
        "print('3) Low- vs. High-grade meningioma dataset: \\n \\\n",
        "    No. of samples and No. of features: {0} \\n \\\n",
        "    Proportions of Low-grade and High-grade: {1} and {2} \\n \\\n",
        "    '.format(X_MEN.shape, round((1 - np.mean(y_MEN)), 2), \n",
        "             round(np.mean(y_MEN), 2)))\n",
        "\n",
        "# 4) Low- vs. High-grade meningioma with undersampling\n",
        "df_MEN_under = pd.read_csv('MEN_cohort_undersampled.csv')\n",
        "X_MEN_under = df_MEN_under.iloc[:, 1:]\n",
        "y_MEN_under = df_MEN_under['Label']\n",
        "\n",
        "print('4) Undersampled Low- vs. High-grade meningioma dataset: \\n \\\n",
        "    No. of samples and No. of features: {0} \\n \\\n",
        "    Proportions of Low-grade and High-grade: {1} and {2} \\n \\\n",
        "    '.format(X_MEN_under.shape, round((1 - np.mean(y_MEN_under)), 2), \n",
        "             round(np.mean(y_MEN_under), 2)))\n"
      ]
    },
    {
      "attachments": {},
      "cell_type": "markdown",
      "metadata": {
        "id": "3V-1NVQxyzjX"
      },
      "source": [
        "## 1) Model stability by No. of input variables, task difficulty, and No. of samples"
      ]
    },
    {
      "cell_type": "code",
      "execution_count": 3,
      "metadata": {
        "id": "3iD3dEOnVHUZ"
      },
      "outputs": [],
      "source": [
        "def get_auc_by_nfeat(file_data, cv, combs):\n",
        "\n",
        "  df = pd.read_csv(file_data)\n",
        "  X = df.iloc[:, 1:]\n",
        "  y = df.loc[:, 'Label']\n",
        "    \n",
        "  result_df = pd.DataFrame()\n",
        "  for (rs, n_feat) in tqdm(combs):\n",
        "    # splitting\n",
        "    X_train, X_test, y_train, y_test = \\\n",
        "      train_test_split(X, y, test_size=0.3, stratify=y, shuffle=True, random_state=rs)\n",
        "\n",
        "    # standardization\n",
        "    scaler = StandardScaler()\n",
        "    X_train = scaler.fit_transform(X_train, y_train)\n",
        "    X_test = scaler.transform(X_test)\n",
        "\n",
        "    # feature selection\n",
        "    selector = SelectKBest(f_classif, k=n_feat)\n",
        "    X_train = selector.fit_transform(X_train, y_train)\n",
        "    X_test = selector.transform(X_test)\n",
        "\n",
        "    # cross-validated AUC in the training set\n",
        "    clf =  LogisticRegression(penalty='l1', solver='liblinear', max_iter=10000, \n",
        "                              dual=False, random_state=0)\n",
        "    CV_score = cross_val_score(clf, X_train, y_train, scoring='roc_auc', cv=cv)\n",
        "    CV_mean = np.mean(CV_score)\n",
        "    CV_sd = np.std(CV_score)\n",
        "\n",
        "    # model fitting and testing in the training and test sets, respectively\n",
        "    clf.fit(X_train, y_train)\n",
        "    y_pred = clf.predict_proba(X_test)\n",
        "    test_auc = roc_auc_score(y_test, y_pred[:, 1])\n",
        "\n",
        "    row = pd.DataFrame({'Random_state': rs,\n",
        "                        'Num_features': n_feat,\n",
        "                        'CV_AUC': round(CV_mean, 3), \n",
        "                        'CV_AUC_SD': round(CV_sd, 3),\n",
        "                        'Test_AUC': round(test_auc, 3)}, index = [rs])\n",
        "    result_df = pd.concat([result_df, row], axis=0)\n",
        "  \n",
        "  return result_df"
      ]
    },
    {
      "cell_type": "code",
      "execution_count": 4,
      "metadata": {
        "id": "uWRuNzDyXlUl"
      },
      "outputs": [],
      "source": [
        "combs = [(rs, n_feat) \n",
        "         for rs in range(1000) \n",
        "         for n_feat in range(1, 151)]"
      ]
    },
    {
      "cell_type": "code",
      "execution_count": 5,
      "metadata": {
        "id": "OOD_P1wmUijH"
      },
      "outputs": [
        {
          "name": "stderr",
          "output_type": "stream",
          "text": [
            "100%|██████████| 150000/150000 [48:45<00:00, 51.28it/s]\n"
          ]
        }
      ],
      "source": [
        "get_auc_by_nfeat('GvM_cohort.csv', \n",
        "                 cv=5, combs=combs).to_csv('GvM_full_by_nfeat.csv')"
      ]
    },
    {
      "cell_type": "code",
      "execution_count": 6,
      "metadata": {
        "id": "DW7QKw_KTaHS"
      },
      "outputs": [
        {
          "name": "stderr",
          "output_type": "stream",
          "text": [
            "100%|██████████| 150000/150000 [44:08<00:00, 56.64it/s]\n"
          ]
        }
      ],
      "source": [
        "get_auc_by_nfeat('GvM_cohort_undersampled.csv', \n",
        "                 cv=5, combs=combs).to_csv('GvM_under_by_nfeat.csv')"
      ]
    },
    {
      "cell_type": "code",
      "execution_count": 7,
      "metadata": {
        "id": "FMWH7z7fUdW2"
      },
      "outputs": [
        {
          "name": "stderr",
          "output_type": "stream",
          "text": [
            "100%|██████████| 150000/150000 [47:54<00:00, 52.17it/s] \n"
          ]
        }
      ],
      "source": [
        "get_auc_by_nfeat('MEN_cohort.csv', \n",
        "                 cv=5, combs=combs).to_csv('MEN_full_by_nfeat.csv')"
      ]
    },
    {
      "cell_type": "code",
      "execution_count": 8,
      "metadata": {
        "id": "b4RfRiUlUeSv"
      },
      "outputs": [
        {
          "name": "stderr",
          "output_type": "stream",
          "text": [
            "100%|██████████| 150000/150000 [39:57<00:00, 62.58it/s]\n"
          ]
        }
      ],
      "source": [
        "get_auc_by_nfeat('MEN_cohort_undersampled.csv', \n",
        "                 cv=5, combs=combs).to_csv('MEN_under_by_nfeat.csv')"
      ]
    },
    {
      "attachments": {},
      "cell_type": "markdown",
      "metadata": {
        "id": "Q2jyhSs-UmiW"
      },
      "source": [
        "## 2) Model stability with hyperparameter tuning"
      ]
    },
    {
      "cell_type": "code",
      "execution_count": 8,
      "metadata": {
        "id": "stWGgYTr-ZAM"
      },
      "outputs": [],
      "source": [
        "def get_auc_gridsearch(file_data, rep, cv, params):\n",
        "\n",
        "  df = pd.read_csv(file_data)\n",
        "  X = df.iloc[:, 1:]\n",
        "  y = df.loc[:, 'Label']\n",
        "\n",
        "  result_df = pd.DataFrame()\n",
        "  for rs in tqdm(range(rep)):\n",
        "    X_train, X_test, y_train, y_test = \\\n",
        "          train_test_split(X, y, test_size=0.3, stratify=y, \n",
        "                          shuffle=True, random_state=rs)\n",
        "\n",
        "    pipe = Pipeline([('scaler', StandardScaler()), \n",
        "                    ('fs', SelectKBest(f_classif)),\n",
        "                    ('clf', LogisticRegression(penalty='l1', solver='liblinear',\n",
        "                            max_iter=15000, dual=False, random_state=0))])\n",
        "\n",
        "    search = GridSearchCV(pipe, param_grid=params, scoring='roc_auc', cv=cv)\n",
        "    search.fit(X_train, y_train)\n",
        "\n",
        "    best_nfeat = search.best_params_['fs__k']\n",
        "    best_C = search.best_params_['clf__C']\n",
        "    \n",
        "    auc_list = []\n",
        "    for j in range(cv): \n",
        "        key = 'split'+ str(j) + '_test_score'\n",
        "        auc = search.cv_results_[key][search.best_index_]\n",
        "        auc_list.append(auc)\n",
        "\n",
        "    CV_AUC = np.mean(auc_list)\n",
        "    CV_AUC_SD = np.std(auc_list)\n",
        "\n",
        "    y_pred = search.predict_proba(X_test)\n",
        "    Test_AUC = roc_auc_score(y_test, y_pred[:, 1]) \n",
        "\n",
        "    auc, auc_cov = delong_roc_variance(y_test, y_pred[:, 1])\n",
        "    auc_std = np.sqrt(auc_cov)\n",
        "    lower_upper_q = np.abs(np.array([0, 1]) - (1 - 0.95) / 2)\n",
        "    ci = stats.norm.ppf(lower_upper_q, loc=auc, scale=auc_std)\n",
        "    ci[ci > 1] = 1\n",
        "\n",
        "    row = pd.DataFrame({'Random_state': rs,\n",
        "                        'Optimal_Nfeat': best_nfeat,\n",
        "                        'Optimal_C': best_C,\n",
        "                        'CV_AUC': CV_AUC, 'CV_AUC_SD': CV_AUC_SD,\n",
        "                        'Test_AUC': Test_AUC,\n",
        "                        'CV_AUC_lowCI': ci[0], \n",
        "                        'CV_AUC_highCI': ci[1]}, index = [0])\n",
        "\n",
        "    result_df = pd.concat([result_df, row], axis=0)\n",
        "\n",
        "  return result_df"
      ]
    },
    {
      "cell_type": "code",
      "execution_count": 3,
      "metadata": {
        "id": "26svzjRq_ztt"
      },
      "outputs": [],
      "source": [
        "# define a hyperparameter grid for the ML model\n",
        "C_list = list(np.arange(0.01, 0.1, 0.02)) + \\\n",
        "         list(np.arange(0.1, 1, 0.2)) + \\\n",
        "         list(np.arange(1, 2, 0.5)) + \\\n",
        "         list(np.arange(2, 10, 2))\n",
        "params = {'fs__k': range(20, 55, 5), 'clf__C': C_list}"
      ]
    },
    {
      "cell_type": "code",
      "execution_count": 5,
      "metadata": {
        "id": "tGTsEZt6uqHQ"
      },
      "outputs": [
        {
          "name": "stderr",
          "output_type": "stream",
          "text": [
            "100%|██████████| 1000/1000 [1:42:18<00:00,  6.14s/it]\n"
          ]
        }
      ],
      "source": [
        "get_auc_gridsearch('GvM_cohort.csv', \n",
        " rep=1000, cv=5, params=params).to_csv('GvM_full_search.csv')"
      ]
    },
    {
      "cell_type": "code",
      "execution_count": 4,
      "metadata": {
        "id": "F_wI5C2q-L36"
      },
      "outputs": [
        {
          "name": "stderr",
          "output_type": "stream",
          "text": [
            " 15%|█▍        | 146/1000 [14:03<1:23:05,  5.84s/it]c:\\Users\\Tom\\.conda\\envs\\py310\\lib\\site-packages\\scipy\\stats\\_distn_infrastructure.py:2351: RuntimeWarning: invalid value encountered in multiply\n",
            "  lower_bound = _a * scale + loc\n",
            "c:\\Users\\Tom\\.conda\\envs\\py310\\lib\\site-packages\\scipy\\stats\\_distn_infrastructure.py:2352: RuntimeWarning: invalid value encountered in multiply\n",
            "  upper_bound = _b * scale + loc\n",
            " 19%|█▊        | 187/1000 [18:02<1:18:46,  5.81s/it]c:\\Users\\Tom\\.conda\\envs\\py310\\lib\\site-packages\\scipy\\stats\\_distn_infrastructure.py:2351: RuntimeWarning: invalid value encountered in multiply\n",
            "  lower_bound = _a * scale + loc\n",
            "c:\\Users\\Tom\\.conda\\envs\\py310\\lib\\site-packages\\scipy\\stats\\_distn_infrastructure.py:2352: RuntimeWarning: invalid value encountered in multiply\n",
            "  upper_bound = _b * scale + loc\n",
            " 22%|██▏       | 219/1000 [21:10<1:16:26,  5.87s/it]c:\\Users\\Tom\\.conda\\envs\\py310\\lib\\site-packages\\scipy\\stats\\_distn_infrastructure.py:2351: RuntimeWarning: invalid value encountered in multiply\n",
            "  lower_bound = _a * scale + loc\n",
            "c:\\Users\\Tom\\.conda\\envs\\py310\\lib\\site-packages\\scipy\\stats\\_distn_infrastructure.py:2352: RuntimeWarning: invalid value encountered in multiply\n",
            "  upper_bound = _b * scale + loc\n",
            " 35%|███▌      | 351/1000 [34:05<1:03:54,  5.91s/it]c:\\Users\\Tom\\.conda\\envs\\py310\\lib\\site-packages\\scipy\\stats\\_distn_infrastructure.py:2351: RuntimeWarning: invalid value encountered in multiply\n",
            "  lower_bound = _a * scale + loc\n",
            "c:\\Users\\Tom\\.conda\\envs\\py310\\lib\\site-packages\\scipy\\stats\\_distn_infrastructure.py:2352: RuntimeWarning: invalid value encountered in multiply\n",
            "  upper_bound = _b * scale + loc\n",
            " 42%|████▏     | 416/1000 [40:28<57:03,  5.86s/it]  c:\\Users\\Tom\\.conda\\envs\\py310\\lib\\site-packages\\scipy\\stats\\_distn_infrastructure.py:2351: RuntimeWarning: invalid value encountered in multiply\n",
            "  lower_bound = _a * scale + loc\n",
            "c:\\Users\\Tom\\.conda\\envs\\py310\\lib\\site-packages\\scipy\\stats\\_distn_infrastructure.py:2352: RuntimeWarning: invalid value encountered in multiply\n",
            "  upper_bound = _b * scale + loc\n",
            " 45%|████▍     | 448/1000 [43:36<51:47,  5.63s/it]c:\\Users\\Tom\\.conda\\envs\\py310\\lib\\site-packages\\scipy\\stats\\_distn_infrastructure.py:2351: RuntimeWarning: invalid value encountered in multiply\n",
            "  lower_bound = _a * scale + loc\n",
            "c:\\Users\\Tom\\.conda\\envs\\py310\\lib\\site-packages\\scipy\\stats\\_distn_infrastructure.py:2352: RuntimeWarning: invalid value encountered in multiply\n",
            "  upper_bound = _b * scale + loc\n",
            " 59%|█████▉    | 593/1000 [57:47<41:00,  6.04s/it]c:\\Users\\Tom\\.conda\\envs\\py310\\lib\\site-packages\\scipy\\stats\\_distn_infrastructure.py:2351: RuntimeWarning: invalid value encountered in multiply\n",
            "  lower_bound = _a * scale + loc\n",
            "c:\\Users\\Tom\\.conda\\envs\\py310\\lib\\site-packages\\scipy\\stats\\_distn_infrastructure.py:2352: RuntimeWarning: invalid value encountered in multiply\n",
            "  upper_bound = _b * scale + loc\n",
            " 72%|███████▏  | 716/1000 [1:10:01<28:23,  6.00s/it]c:\\Users\\Tom\\.conda\\envs\\py310\\lib\\site-packages\\scipy\\stats\\_distn_infrastructure.py:2351: RuntimeWarning: invalid value encountered in multiply\n",
            "  lower_bound = _a * scale + loc\n",
            "c:\\Users\\Tom\\.conda\\envs\\py310\\lib\\site-packages\\scipy\\stats\\_distn_infrastructure.py:2352: RuntimeWarning: invalid value encountered in multiply\n",
            "  upper_bound = _b * scale + loc\n",
            " 72%|███████▏  | 717/1000 [1:10:07<28:05,  5.96s/it]c:\\Users\\Tom\\.conda\\envs\\py310\\lib\\site-packages\\scipy\\stats\\_distn_infrastructure.py:2351: RuntimeWarning: invalid value encountered in multiply\n",
            "  lower_bound = _a * scale + loc\n",
            "c:\\Users\\Tom\\.conda\\envs\\py310\\lib\\site-packages\\scipy\\stats\\_distn_infrastructure.py:2352: RuntimeWarning: invalid value encountered in multiply\n",
            "  upper_bound = _b * scale + loc\n",
            " 75%|███████▌  | 754/1000 [1:13:49<24:48,  6.05s/it]c:\\Users\\Tom\\.conda\\envs\\py310\\lib\\site-packages\\scipy\\stats\\_distn_infrastructure.py:2351: RuntimeWarning: invalid value encountered in multiply\n",
            "  lower_bound = _a * scale + loc\n",
            "c:\\Users\\Tom\\.conda\\envs\\py310\\lib\\site-packages\\scipy\\stats\\_distn_infrastructure.py:2352: RuntimeWarning: invalid value encountered in multiply\n",
            "  upper_bound = _b * scale + loc\n",
            " 80%|████████  | 801/1000 [1:18:22<20:01,  6.04s/it]c:\\Users\\Tom\\.conda\\envs\\py310\\lib\\site-packages\\scipy\\stats\\_distn_infrastructure.py:2351: RuntimeWarning: invalid value encountered in multiply\n",
            "  lower_bound = _a * scale + loc\n",
            "c:\\Users\\Tom\\.conda\\envs\\py310\\lib\\site-packages\\scipy\\stats\\_distn_infrastructure.py:2352: RuntimeWarning: invalid value encountered in multiply\n",
            "  upper_bound = _b * scale + loc\n",
            " 92%|█████████▏| 916/1000 [1:29:47<08:20,  5.96s/it]c:\\Users\\Tom\\.conda\\envs\\py310\\lib\\site-packages\\scipy\\stats\\_distn_infrastructure.py:2351: RuntimeWarning: invalid value encountered in multiply\n",
            "  lower_bound = _a * scale + loc\n",
            "c:\\Users\\Tom\\.conda\\envs\\py310\\lib\\site-packages\\scipy\\stats\\_distn_infrastructure.py:2352: RuntimeWarning: invalid value encountered in multiply\n",
            "  upper_bound = _b * scale + loc\n",
            "100%|██████████| 1000/1000 [1:38:06<00:00,  5.89s/it]\n"
          ]
        }
      ],
      "source": [
        "get_auc_gridsearch('GvM_cohort_undersampled.csv', \n",
        " rep=1000, cv=5, params=params).to_csv('GvM_under_search.csv')"
      ]
    },
    {
      "cell_type": "code",
      "execution_count": 5,
      "metadata": {
        "id": "UdDIWtEpFdvD"
      },
      "outputs": [
        {
          "name": "stderr",
          "output_type": "stream",
          "text": [
            "100%|██████████| 1000/1000 [1:05:01<00:00,  3.90s/it]\n"
          ]
        }
      ],
      "source": [
        "get_auc_gridsearch('MEN_cohort.csv', \n",
        " rep=1000, cv=5, params=params).to_csv('MEN_full_search.csv')"
      ]
    },
    {
      "cell_type": "code",
      "execution_count": 9,
      "metadata": {
        "id": "7BxJtc6kFd48"
      },
      "outputs": [
        {
          "name": "stderr",
          "output_type": "stream",
          "text": [
            " 16%|█▌        | 159/1000 [09:20<50:29,  3.60s/it]c:\\Users\\Tom\\.conda\\envs\\py310\\lib\\site-packages\\sklearn\\svm\\_base.py:1244: ConvergenceWarning: Liblinear failed to converge, increase the number of iterations.\n",
            "  warnings.warn(\n",
            "c:\\Users\\Tom\\.conda\\envs\\py310\\lib\\site-packages\\sklearn\\svm\\_base.py:1244: ConvergenceWarning: Liblinear failed to converge, increase the number of iterations.\n",
            "  warnings.warn(\n",
            "c:\\Users\\Tom\\.conda\\envs\\py310\\lib\\site-packages\\sklearn\\svm\\_base.py:1244: ConvergenceWarning: Liblinear failed to converge, increase the number of iterations.\n",
            "  warnings.warn(\n",
            "c:\\Users\\Tom\\.conda\\envs\\py310\\lib\\site-packages\\sklearn\\svm\\_base.py:1244: ConvergenceWarning: Liblinear failed to converge, increase the number of iterations.\n",
            "  warnings.warn(\n",
            "c:\\Users\\Tom\\.conda\\envs\\py310\\lib\\site-packages\\sklearn\\svm\\_base.py:1244: ConvergenceWarning: Liblinear failed to converge, increase the number of iterations.\n",
            "  warnings.warn(\n",
            "c:\\Users\\Tom\\.conda\\envs\\py310\\lib\\site-packages\\sklearn\\svm\\_base.py:1244: ConvergenceWarning: Liblinear failed to converge, increase the number of iterations.\n",
            "  warnings.warn(\n",
            "c:\\Users\\Tom\\.conda\\envs\\py310\\lib\\site-packages\\sklearn\\svm\\_base.py:1244: ConvergenceWarning: Liblinear failed to converge, increase the number of iterations.\n",
            "  warnings.warn(\n",
            " 21%|██        | 206/1000 [12:13<46:46,  3.53s/it]  c:\\Users\\Tom\\.conda\\envs\\py310\\lib\\site-packages\\sklearn\\svm\\_base.py:1244: ConvergenceWarning: Liblinear failed to converge, increase the number of iterations.\n",
            "  warnings.warn(\n",
            "c:\\Users\\Tom\\.conda\\envs\\py310\\lib\\site-packages\\sklearn\\svm\\_base.py:1244: ConvergenceWarning: Liblinear failed to converge, increase the number of iterations.\n",
            "  warnings.warn(\n",
            "c:\\Users\\Tom\\.conda\\envs\\py310\\lib\\site-packages\\sklearn\\svm\\_base.py:1244: ConvergenceWarning: Liblinear failed to converge, increase the number of iterations.\n",
            "  warnings.warn(\n",
            "c:\\Users\\Tom\\.conda\\envs\\py310\\lib\\site-packages\\sklearn\\svm\\_base.py:1244: ConvergenceWarning: Liblinear failed to converge, increase the number of iterations.\n",
            "  warnings.warn(\n",
            "c:\\Users\\Tom\\.conda\\envs\\py310\\lib\\site-packages\\sklearn\\svm\\_base.py:1244: ConvergenceWarning: Liblinear failed to converge, increase the number of iterations.\n",
            "  warnings.warn(\n",
            "c:\\Users\\Tom\\.conda\\envs\\py310\\lib\\site-packages\\sklearn\\svm\\_base.py:1244: ConvergenceWarning: Liblinear failed to converge, increase the number of iterations.\n",
            "  warnings.warn(\n",
            "c:\\Users\\Tom\\.conda\\envs\\py310\\lib\\site-packages\\sklearn\\svm\\_base.py:1244: ConvergenceWarning: Liblinear failed to converge, increase the number of iterations.\n",
            "  warnings.warn(\n",
            " 22%|██▏       | 221/1000 [13:11<46:02,  3.55s/it]  c:\\Users\\Tom\\.conda\\envs\\py310\\lib\\site-packages\\sklearn\\svm\\_base.py:1244: ConvergenceWarning: Liblinear failed to converge, increase the number of iterations.\n",
            "  warnings.warn(\n",
            "c:\\Users\\Tom\\.conda\\envs\\py310\\lib\\site-packages\\sklearn\\svm\\_base.py:1244: ConvergenceWarning: Liblinear failed to converge, increase the number of iterations.\n",
            "  warnings.warn(\n",
            "c:\\Users\\Tom\\.conda\\envs\\py310\\lib\\site-packages\\sklearn\\svm\\_base.py:1244: ConvergenceWarning: Liblinear failed to converge, increase the number of iterations.\n",
            "  warnings.warn(\n",
            "c:\\Users\\Tom\\.conda\\envs\\py310\\lib\\site-packages\\sklearn\\svm\\_base.py:1244: ConvergenceWarning: Liblinear failed to converge, increase the number of iterations.\n",
            "  warnings.warn(\n",
            "c:\\Users\\Tom\\.conda\\envs\\py310\\lib\\site-packages\\sklearn\\svm\\_base.py:1244: ConvergenceWarning: Liblinear failed to converge, increase the number of iterations.\n",
            "  warnings.warn(\n",
            "c:\\Users\\Tom\\.conda\\envs\\py310\\lib\\site-packages\\sklearn\\svm\\_base.py:1244: ConvergenceWarning: Liblinear failed to converge, increase the number of iterations.\n",
            "  warnings.warn(\n",
            "c:\\Users\\Tom\\.conda\\envs\\py310\\lib\\site-packages\\sklearn\\svm\\_base.py:1244: ConvergenceWarning: Liblinear failed to converge, increase the number of iterations.\n",
            "  warnings.warn(\n",
            "c:\\Users\\Tom\\.conda\\envs\\py310\\lib\\site-packages\\sklearn\\svm\\_base.py:1244: ConvergenceWarning: Liblinear failed to converge, increase the number of iterations.\n",
            "  warnings.warn(\n",
            "c:\\Users\\Tom\\.conda\\envs\\py310\\lib\\site-packages\\sklearn\\svm\\_base.py:1244: ConvergenceWarning: Liblinear failed to converge, increase the number of iterations.\n",
            "  warnings.warn(\n",
            "c:\\Users\\Tom\\.conda\\envs\\py310\\lib\\site-packages\\sklearn\\svm\\_base.py:1244: ConvergenceWarning: Liblinear failed to converge, increase the number of iterations.\n",
            "  warnings.warn(\n",
            "c:\\Users\\Tom\\.conda\\envs\\py310\\lib\\site-packages\\sklearn\\svm\\_base.py:1244: ConvergenceWarning: Liblinear failed to converge, increase the number of iterations.\n",
            "  warnings.warn(\n",
            "c:\\Users\\Tom\\.conda\\envs\\py310\\lib\\site-packages\\sklearn\\svm\\_base.py:1244: ConvergenceWarning: Liblinear failed to converge, increase the number of iterations.\n",
            "  warnings.warn(\n",
            "c:\\Users\\Tom\\.conda\\envs\\py310\\lib\\site-packages\\sklearn\\svm\\_base.py:1244: ConvergenceWarning: Liblinear failed to converge, increase the number of iterations.\n",
            "  warnings.warn(\n",
            "c:\\Users\\Tom\\.conda\\envs\\py310\\lib\\site-packages\\sklearn\\svm\\_base.py:1244: ConvergenceWarning: Liblinear failed to converge, increase the number of iterations.\n",
            "  warnings.warn(\n",
            " 36%|███▌      | 359/1000 [21:34<38:11,  3.58s/it]  c:\\Users\\Tom\\.conda\\envs\\py310\\lib\\site-packages\\sklearn\\svm\\_base.py:1244: ConvergenceWarning: Liblinear failed to converge, increase the number of iterations.\n",
            "  warnings.warn(\n",
            "c:\\Users\\Tom\\.conda\\envs\\py310\\lib\\site-packages\\sklearn\\svm\\_base.py:1244: ConvergenceWarning: Liblinear failed to converge, increase the number of iterations.\n",
            "  warnings.warn(\n",
            "c:\\Users\\Tom\\.conda\\envs\\py310\\lib\\site-packages\\sklearn\\svm\\_base.py:1244: ConvergenceWarning: Liblinear failed to converge, increase the number of iterations.\n",
            "  warnings.warn(\n",
            "c:\\Users\\Tom\\.conda\\envs\\py310\\lib\\site-packages\\sklearn\\svm\\_base.py:1244: ConvergenceWarning: Liblinear failed to converge, increase the number of iterations.\n",
            "  warnings.warn(\n",
            "c:\\Users\\Tom\\.conda\\envs\\py310\\lib\\site-packages\\sklearn\\svm\\_base.py:1244: ConvergenceWarning: Liblinear failed to converge, increase the number of iterations.\n",
            "  warnings.warn(\n",
            "c:\\Users\\Tom\\.conda\\envs\\py310\\lib\\site-packages\\sklearn\\svm\\_base.py:1244: ConvergenceWarning: Liblinear failed to converge, increase the number of iterations.\n",
            "  warnings.warn(\n",
            "c:\\Users\\Tom\\.conda\\envs\\py310\\lib\\site-packages\\sklearn\\svm\\_base.py:1244: ConvergenceWarning: Liblinear failed to converge, increase the number of iterations.\n",
            "  warnings.warn(\n",
            " 70%|███████   | 701/1000 [42:05<17:51,  3.58s/it]c:\\Users\\Tom\\.conda\\envs\\py310\\lib\\site-packages\\sklearn\\svm\\_base.py:1244: ConvergenceWarning: Liblinear failed to converge, increase the number of iterations.\n",
            "  warnings.warn(\n",
            "c:\\Users\\Tom\\.conda\\envs\\py310\\lib\\site-packages\\sklearn\\svm\\_base.py:1244: ConvergenceWarning: Liblinear failed to converge, increase the number of iterations.\n",
            "  warnings.warn(\n",
            "c:\\Users\\Tom\\.conda\\envs\\py310\\lib\\site-packages\\sklearn\\svm\\_base.py:1244: ConvergenceWarning: Liblinear failed to converge, increase the number of iterations.\n",
            "  warnings.warn(\n",
            "c:\\Users\\Tom\\.conda\\envs\\py310\\lib\\site-packages\\sklearn\\svm\\_base.py:1244: ConvergenceWarning: Liblinear failed to converge, increase the number of iterations.\n",
            "  warnings.warn(\n",
            "c:\\Users\\Tom\\.conda\\envs\\py310\\lib\\site-packages\\sklearn\\svm\\_base.py:1244: ConvergenceWarning: Liblinear failed to converge, increase the number of iterations.\n",
            "  warnings.warn(\n",
            "c:\\Users\\Tom\\.conda\\envs\\py310\\lib\\site-packages\\sklearn\\svm\\_base.py:1244: ConvergenceWarning: Liblinear failed to converge, increase the number of iterations.\n",
            "  warnings.warn(\n",
            "c:\\Users\\Tom\\.conda\\envs\\py310\\lib\\site-packages\\sklearn\\svm\\_base.py:1244: ConvergenceWarning: Liblinear failed to converge, increase the number of iterations.\n",
            "  warnings.warn(\n",
            " 82%|████████▏ | 823/1000 [49:26<10:50,  3.68s/it]c:\\Users\\Tom\\.conda\\envs\\py310\\lib\\site-packages\\sklearn\\svm\\_base.py:1244: ConvergenceWarning: Liblinear failed to converge, increase the number of iterations.\n",
            "  warnings.warn(\n",
            "c:\\Users\\Tom\\.conda\\envs\\py310\\lib\\site-packages\\sklearn\\svm\\_base.py:1244: ConvergenceWarning: Liblinear failed to converge, increase the number of iterations.\n",
            "  warnings.warn(\n",
            "c:\\Users\\Tom\\.conda\\envs\\py310\\lib\\site-packages\\sklearn\\svm\\_base.py:1244: ConvergenceWarning: Liblinear failed to converge, increase the number of iterations.\n",
            "  warnings.warn(\n",
            "c:\\Users\\Tom\\.conda\\envs\\py310\\lib\\site-packages\\sklearn\\svm\\_base.py:1244: ConvergenceWarning: Liblinear failed to converge, increase the number of iterations.\n",
            "  warnings.warn(\n",
            "c:\\Users\\Tom\\.conda\\envs\\py310\\lib\\site-packages\\sklearn\\svm\\_base.py:1244: ConvergenceWarning: Liblinear failed to converge, increase the number of iterations.\n",
            "  warnings.warn(\n",
            "c:\\Users\\Tom\\.conda\\envs\\py310\\lib\\site-packages\\sklearn\\svm\\_base.py:1244: ConvergenceWarning: Liblinear failed to converge, increase the number of iterations.\n",
            "  warnings.warn(\n",
            "c:\\Users\\Tom\\.conda\\envs\\py310\\lib\\site-packages\\sklearn\\svm\\_base.py:1244: ConvergenceWarning: Liblinear failed to converge, increase the number of iterations.\n",
            "  warnings.warn(\n",
            " 95%|█████████▍| 946/1000 [56:15<02:51,  3.18s/it]c:\\Users\\Tom\\.conda\\envs\\py310\\lib\\site-packages\\sklearn\\svm\\_base.py:1244: ConvergenceWarning: Liblinear failed to converge, increase the number of iterations.\n",
            "  warnings.warn(\n",
            "c:\\Users\\Tom\\.conda\\envs\\py310\\lib\\site-packages\\sklearn\\svm\\_base.py:1244: ConvergenceWarning: Liblinear failed to converge, increase the number of iterations.\n",
            "  warnings.warn(\n",
            "c:\\Users\\Tom\\.conda\\envs\\py310\\lib\\site-packages\\sklearn\\svm\\_base.py:1244: ConvergenceWarning: Liblinear failed to converge, increase the number of iterations.\n",
            "  warnings.warn(\n",
            "c:\\Users\\Tom\\.conda\\envs\\py310\\lib\\site-packages\\sklearn\\svm\\_base.py:1244: ConvergenceWarning: Liblinear failed to converge, increase the number of iterations.\n",
            "  warnings.warn(\n",
            "c:\\Users\\Tom\\.conda\\envs\\py310\\lib\\site-packages\\sklearn\\svm\\_base.py:1244: ConvergenceWarning: Liblinear failed to converge, increase the number of iterations.\n",
            "  warnings.warn(\n",
            "c:\\Users\\Tom\\.conda\\envs\\py310\\lib\\site-packages\\sklearn\\svm\\_base.py:1244: ConvergenceWarning: Liblinear failed to converge, increase the number of iterations.\n",
            "  warnings.warn(\n",
            "c:\\Users\\Tom\\.conda\\envs\\py310\\lib\\site-packages\\sklearn\\svm\\_base.py:1244: ConvergenceWarning: Liblinear failed to converge, increase the number of iterations.\n",
            "  warnings.warn(\n",
            "100%|██████████| 1000/1000 [59:10<00:00,  3.55s/it]\n"
          ]
        }
      ],
      "source": [
        "get_auc_gridsearch('MEN_cohort_undersampled.csv', \n",
        " rep=1000, cv=5, params=params).to_csv('MEN_under_search.csv')"
      ]
    }
  ],
  "metadata": {
    "colab": {
      "collapsed_sections": [],
      "include_colab_link": true,
      "name": "1)Create_datasets",
      "provenance": []
    },
    "kernelspec": {
      "display_name": "Python 3",
      "language": "python",
      "name": "python3"
    },
    "language_info": {
      "codemirror_mode": {
        "name": "ipython",
        "version": 3
      },
      "file_extension": ".py",
      "mimetype": "text/x-python",
      "name": "python",
      "nbconvert_exporter": "python",
      "pygments_lexer": "ipython3",
      "version": "3.10.11"
    }
  },
  "nbformat": 4,
  "nbformat_minor": 0
}
